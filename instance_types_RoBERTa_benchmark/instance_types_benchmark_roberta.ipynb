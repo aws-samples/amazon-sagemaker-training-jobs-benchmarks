{
 "cells": [
  {
   "cell_type": "markdown",
   "metadata": {},
   "source": [
    "# ml.g5.2xlarge vs. ml.p3.2xlarge for training RoBERTa model on a single GPU Training "
   ]
  },
  {
   "cell_type": "markdown",
   "metadata": {},
   "source": [
    "## Introduction\n",
    "\n",
    "This notebook shows how to evaluate which instance to use to train faster and chaper. It includes measures time-to-train and cost-to-train the task of fine-tuning a Hugging Face `RoBERTa` model, while validating model quality is kept the same.\n",
    "We benchmark two instance types (you could try different instance types, of course):\n",
    "- `ml.p3.2xlarge` - Single NVIDIA V100 GPU, 8 vCPUs, available in SageMaker since 2018.\n",
    "- `ml.g5.2xlarge` - Single NVIDIA A10g GPU, 8 vCPUs, available in SageMaker since Jan 2022."
   ]
  },
  {
   "cell_type": "code",
   "execution_count": 1,
   "metadata": {},
   "outputs": [],
   "source": [
    "# We'll train and compare using these two instance types\n",
    "INSTANCE1_TYPE = \"ml.p3.2xlarge\"\n",
    "INSTANCE1_BATCH_SIZE = 18 # Max for ml.p3.2xlarge\n",
    "INSTANCE2_TYPE = \"ml.g5.2xlarge\" # Can change to \"ml.g5.xlarge\"\n",
    "INSTANCE2_BATCH_SIZE = 18 # G5 supports up to 24"
   ]
  },
  {
   "cell_type": "markdown",
   "metadata": {},
   "source": [
    " ## Summary of results\n",
    "Results are presented here (run the notebook to reproduce):\n",
    "\n",
    "|               | ml.p3.2xlarge | ml.g5.2xlarge|\n",
    "|---------------|---------------|--------------|\n",
    "| Cost to train | $4.68         | $2.46        |\n",
    "| Time to train | 3935s         | 5414s        |\n",
    "\n",
    "Observations:\n",
    "* Training on `ml.g5.2xlarge` is much more cost-efficient than on `ml.p3.2xlarge` (cuts cost by 47%).\n",
    "* Training on `ml.p3.2xlarge` is about 27% faster than on `ml.g5.2xlarge`.\n",
    "* You'll want to go with `ml.p3.2xlarge` if you're willing to pay roughly 2x to complete training 27% faster. Otherwise `ml.g5.2xlarge` is your choice.\n",
    "\n",
    "### Optimizing further\n",
    "We've cut training cost by 47% by switching to `ml.g5.2xlarge` instance. We've picked `ml.g5.2xlarge` since is has the same amount of vCPUs (8), as `p3.2xlarge`. This switch is a low hanging fruit, as it requires changing a single line of code when launching the training job using the SageMaker Python SDK: `sagemaker.huggingface.HuggingFace(instance_type=...)`.\n",
    "If we're willing to invest more tuning effort, there two more tricks we could apply to futher improve results in favor of G5: Increasing batch size, and scaling down to a `ml.g5.xlarge` instance. These are detailed below. Here's the table again, now with a 3rd column for `ml.g5.xlarge`. We can see the cost to train drops to $2.29 which is 51% lower than cost to train on `ml.p3.2xlarge`.\n",
    "\n",
    "|               | ml.p3.2xlarge | ml.g5.2xlarge| ml.g5.xlarge|\n",
    "|---------------|---------------|--------------|-------------|\n",
    "| Cost to train | $4.68         | $2.46        | $2.29       |\n",
    "| Time to train | 3935s         | 5414s        | 5438s       |\n",
    "| batch size    | 18            | 18           | 24          |\n",
    "\n",
    "#### 1. Increasing batch_size\n",
    "Increasing the batch size of examples per mini batch can typically result in higher throughput. The `ml.p3.2xlarge` instance has 16GB GPU RAM and can fit a maximum batch size of `18`. The `ml.g5.*` instance has more GPU RAM (24GB), and can fit a maxiumum batch size of `24` (I found this value by extrapulating, and running experiments to find the largest batch size that will fit into GPU memory). Here's how results change taking advantage of the higher batch size for G5:\n",
    "TODO\n",
    "\n",
    "#### 2. Scaling down from `ml.g5.2xlarge` to `ml.g5.xlarge`:\n",
    "As this training job is GPU bound, we have redudant cpu power on both instances. As G5 instances has a range of CPU/GPU ratios, we can scale down to from ml.g5.2xlarge with 8 vCPUs to an ml.g5.xlarge with 4 vCPUs to improve cost-to-train, while not compromising on time-to-train. Note that `ml.p3.2xlarge` is the minimal P series instance, so there's no scale down option.  \n",
    "Here's the new results with an increased batch size for G, and using `ml.g5.xlarge`:\n",
    "TODO\n",
    "\n",
    "---\n",
    "\n",
    "**CREDITS:** Much of the code in this notebook is based on this SageMaker example notebook: [Compile and Train a Hugging Face Transformer BERT Model with the SST Dataset using SageMaker Training Compile](https://github.com/aws/amazon-sagemaker-examples/blob/main/sagemaker-training-compiler/huggingface/pytorch_single_gpu_single_node/bert-base-cased/bert-base-cased-single-node-single-gpu.ipynb)"
   ]
  },
  {
   "cell_type": "markdown",
   "metadata": {},
   "source": [
    "## Development Environment "
   ]
  },
  {
   "cell_type": "markdown",
   "metadata": {},
   "source": [
    "You can run this demo in SageMaker Studio, SageMaker notebook instances, or your local machine with AWS CLI set up. If using SageMaker Studio or SageMaker notebook instances, make sure you choose one of the PyTorch-based kernels, `Python 3 (PyTorch x.y Python 3.x CPU Optimized)` or `conda_pytorch_p36` respectively.\n",
    "\n",
    "This notebook runs training jobs with `ml.g5.2xlarge` and `ml.p3.2xlarge` instances types - If you don't have enough quota, see [Request a service quota increase for SageMaker resources](https://docs.aws.amazon.com/sagemaker/latest/dg/regions-quotas.html#service-limit-increase-request-procedure). \n",
    "\n",
    "### Installation\n",
    "\n",
    "This example notebook was tested with **SageMaker Python SDK v2.77.1** and **transformers v4.11.0**, in the **us-east-1** region."
   ]
  },
  {
   "cell_type": "code",
   "execution_count": 2,
   "metadata": {},
   "outputs": [
    {
     "name": "stdout",
     "output_type": "stream",
     "text": [
    
     ]
    }
   ],
   "source": [
    "!pip install --upgrade pip\n",
    "!pip install transformers==4.11.0 datasets sagemaker==2.77.1 botocore boto3 awscli torch matplotlib --upgrade"
   ]
  },
  {
   "cell_type": "code",
   "execution_count": 3,
   "metadata": {},
   "outputs": [
    {
     "name": "stdout",
     "output_type": "stream",
     "text": [
      "sagemaker: 2.77.1\n",
      "transformers: 4.11.0\n"
     ]
    }
   ],
   "source": [
    "import botocore\n",
    "import boto3\n",
    "import sagemaker\n",
    "import transformers\n",
    "import pandas as pd\n",
    "\n",
    "print(f\"sagemaker: {sagemaker.__version__}\")\n",
    "print(f\"transformers: {transformers.__version__}\")"
   ]
  },
  {
   "cell_type": "markdown",
   "metadata": {},
   "source": [
    "Copy and run the following code if you need to upgrade ipywidgets for `datasets` library and restart kernel. This is only needed when prerpocessing is done in the notebook.\n",
    "\n",
    "```python\n",
    "%%capture\n",
    "import IPython\n",
    "!conda install -c conda-forge ipywidgets -y\n",
    "# has to restart kernel for the updates to be applied\n",
    "IPython.Application.instance().kernel.do_shutdown(True) \n",
    "```"
   ]
  },
  {
   "cell_type": "markdown",
   "metadata": {},
   "source": [
    "### SageMaker environment "
   ]
  },
  {
   "cell_type": "code",
   "execution_count": 4,
   "metadata": {},
   "outputs": [
    {
     "name": "stderr",
     "output_type": "stream",
     "text": [
      "Couldn't call 'get_role' to get Role ARN from role name Administrator to get Role path.\n"
     ]
    },
    {
     "name": "stdout",
     "output_type": "stream",
     "text": [
      "sagemaker role arn: arn:aws:iam::123456789000:role/service-role/AmazonSageMaker-ExecutionRole-20171221T130536\n",
      "sagemaker bucket: sagemaker-us-east-1-123456789000\n",
      "sagemaker session region: us-east-1\n"
     ]
    }
   ],
   "source": [
    "import sagemaker\n",
    "\n",
    "sess = sagemaker.Session()\n",
    "\n",
    "# SageMaker session bucket -> used for uploading data, models and logs\n",
    "# SageMaker will automatically create this bucket if it does not exist\n",
    "sagemaker_session_bucket = None\n",
    "if sagemaker_session_bucket is None and sess is not None:\n",
    "    # set to default bucket if a bucket name is not given\n",
    "    sagemaker_session_bucket = sess.default_bucket()\n",
    "\n",
    "try:\n",
    "    role = sagemaker.get_execution_role()\n",
    "except ValueError:\n",
    "    # Add your own role if running outside of a SageMaker notebook environment (like local IDE)\n",
    "    role = \"arn:aws:iam::123456789000:role/service-role/AmazonSageMaker-ExecutionRole-20171221T130536\"\n",
    "sess = sagemaker.Session(default_bucket=sagemaker_session_bucket)\n",
    "\n",
    "print(f\"sagemaker role arn: {role}\")\n",
    "print(f\"sagemaker bucket: {sess.default_bucket()}\")\n",
    "print(f\"sagemaker session region: {sess.boto_region_name}\")"
   ]
  },
  {
   "cell_type": "markdown",
   "metadata": {
    "id": "whPRbBNbIrIl"
   },
   "source": [
    "## Loading the SST dataset"
   ]
  },
  {
   "cell_type": "markdown",
   "metadata": {},
   "source": [
    "When using the [🤗 Datasets library](https://github.com/huggingface/datasets), datasets can be downloaded directly with the following `datasets.load_dataset()` method:\n",
    "\n",
    "```python\n",
    "from datasets import load_dataset\n",
    "load_dataset('dataset_name')\n",
    "```\n",
    "\n",
    "If you'd like to try other training datasets later, you can simply use this method.\n",
    "\n",
    "For this example notebook, we prepared the `SST2` dataset in the public SageMaker sample file S3 bucket. The following code cells show how you can directly load the dataset and convert to a HuggingFace DatasetDict."
   ]
  },
  {
   "cell_type": "markdown",
   "metadata": {},
   "source": [
    "## Preprocessing\n",
    "\n",
    "We download and preprocess the `SST2` dataset from the `s3://sagemaker-sample-files/datasets` bucket. After preprocessing, we'll upload the dataset to the `sagemaker_session_bucket`, which will be used as a data channel for the training job."
   ]
  },
  {
   "cell_type": "markdown",
   "metadata": {},
   "source": [
    "### Tokenization "
   ]
  },
  {
   "cell_type": "code",
   "execution_count": 5,
   "metadata": {},
   "outputs": [
    {
     "name": "stdout",
     "output_type": "stream",
     "text": [
      "  % Total    % Received % Xferd  Average Speed   Time    Time     Time  Current\n",
      "                                 Dload  Upload   Total   Spent    Left  Speed\n",
      "100  189k  100  189k    0     0   150k      0  0:00:01  0:00:01 --:--:--  151k\n",
      "  % Total    % Received % Xferd  Average Speed   Time    Time     Time  Current\n",
      "                                 Dload  Upload   Total   Spent    Left  Speed\n",
      "100 3716k  100 3716k    0     0   407k      0  0:00:09  0:00:09 --:--:--  491k\n",
      "  % Total    % Received % Xferd  Average Speed   Time    Time     Time  Current\n",
      "                                 Dload  Upload   Total   Spent    Left  Speed\n",
      "100 94916  100 94916    0     0  92982      0  0:00:01  0:00:01 --:--:-- 93883\n"
     ]
    }
   ],
   "source": [
    "from datasets import Dataset\n",
    "from transformers import AutoTokenizer\n",
    "import pandas as pd\n",
    "\n",
    "# tokenizer used in preprocessing\n",
    "tokenizer_name = \"roberta-base\"\n",
    "\n",
    "# s3 key prefix for the data\n",
    "s3_prefix = \"samples/datasets/sst2\"\n",
    "\n",
    "# Download the SST2 data from s3\n",
    "!curl https://sagemaker-sample-files.s3.amazonaws.com/datasets/text/SST2/sst2.test > ./sst2.test\n",
    "!curl https://sagemaker-sample-files.s3.amazonaws.com/datasets/text/SST2/sst2.train > ./sst2.train\n",
    "!curl https://sagemaker-sample-files.s3.amazonaws.com/datasets/text/SST2/sst2.val > ./sst2.val"
   ]
  },
  {
   "cell_type": "code",
   "execution_count": 6,
   "metadata": {
    "scrolled": true
   },
   "outputs": [
    {
     "name": "stderr",
     "output_type": "stream",
     "text": [
      "/Users/gili/dev/g5-roBERTa-benchmark/.venv/lib/python3.9/site-packages/transformers/configuration_utils.py:336: UserWarning: Passing `gradient_checkpointing` to a config initialization is deprecated and will be removed in v5 Transformers. Using `model.gradient_checkpointing_enable()` instead, or if you are using the `Trainer` API, pass `gradient_checkpointing=True` in your `TrainingArguments`.\n",
      "  warnings.warn(\n",
      "100%|██████████| 68/68 [00:09<00:00,  7.55ba/s]\n",
      "100%|██████████| 2/2 [00:00<00:00,  8.34ba/s]\n"
     ]
    }
   ],
   "source": [
    "# download tokenizer\n",
    "tokenizer = AutoTokenizer.from_pretrained(tokenizer_name)\n",
    "\n",
    "# tokenizer helper function\n",
    "def tokenize(batch):\n",
    "    return tokenizer(batch[\"text\"], padding=\"max_length\", truncation=True)\n",
    "\n",
    "\n",
    "# load dataset\n",
    "test_df = pd.read_csv(\"sst2.test\", sep=\"delimiter\", header=None, engine=\"python\", names=[\"line\"])\n",
    "train_df = pd.read_csv(\"sst2.train\", sep=\"delimiter\", header=None, engine=\"python\", names=[\"line\"])\n",
    "\n",
    "test_df[[\"label\", \"text\"]] = test_df[\"line\"].str.split(\" \", 1, expand=True)\n",
    "train_df[[\"label\", \"text\"]] = train_df[\"line\"].str.split(\" \", 1, expand=True)\n",
    "\n",
    "test_df.drop(\"line\", axis=1, inplace=True)\n",
    "train_df.drop(\"line\", axis=1, inplace=True)\n",
    "\n",
    "test_df[\"label\"] = pd.to_numeric(test_df[\"label\"], downcast=\"integer\")\n",
    "train_df[\"label\"] = pd.to_numeric(train_df[\"label\"], downcast=\"integer\")\n",
    "\n",
    "train_dataset = Dataset.from_pandas(train_df)\n",
    "test_dataset = Dataset.from_pandas(test_df)\n",
    "\n",
    "# tokenize dataset\n",
    "train_dataset = train_dataset.map(tokenize, batched=True)\n",
    "test_dataset = test_dataset.map(tokenize, batched=True)\n",
    "\n",
    "# set format for pytorch\n",
    "train_dataset = train_dataset.rename_column(\"label\", \"labels\")\n",
    "train_dataset.set_format(\"torch\", columns=[\"input_ids\", \"attention_mask\", \"labels\"])\n",
    "\n",
    "test_dataset = test_dataset.rename_column(\"label\", \"labels\")\n",
    "test_dataset.set_format(\"torch\", columns=[\"input_ids\", \"attention_mask\", \"labels\"])"
   ]
  },
  {
   "cell_type": "markdown",
   "metadata": {},
   "source": [
    "## Uploading data to `sagemaker_session_bucket`"
   ]
  },
  {
   "cell_type": "code",
   "execution_count": 7,
   "metadata": {},
   "outputs": [
    {
     "name": "stdout",
     "output_type": "stream",
     "text": [
      "huggingface/tokenizers: The current process just got forked, after parallelism has already been used. Disabling parallelism to avoid deadlocks...\n",
      "To disable this warning, you can either:\n",
      "\t- Avoid using `tokenizers` before the fork if possible\n",
      "\t- Explicitly set the environment variable TOKENIZERS_PARALLELISM=(true | false)\n",
      "upload: ../../../../../../tmp/train/state.json to s3://sagemaker-us-east-1-123456789000/samples/datasets/sst2/train/state.json\n",
      "upload: ../../../../../../tmp/train/dataset_info.json to s3://sagemaker-us-east-1-123456789000/samples/datasets/sst2/train/dataset_info.json\n",
      "upload: ../../../../../../tmp/train/dataset.arrow to s3://sagemaker-us-east-1-123456789000/samples/datasets/sst2/train/dataset.arrow\n",
      "huggingface/tokenizers: The current process just got forked, after parallelism has already been used. Disabling parallelism to avoid deadlocks...\n",
      "To disable this warning, you can either:\n",
      "\t- Avoid using `tokenizers` before the fork if possible\n",
      "\t- Explicitly set the environment variable TOKENIZERS_PARALLELISM=(true | false)\n",
      "upload: ../../../../../../tmp/test/dataset_info.json to s3://sagemaker-us-east-1-123456789000/samples/datasets/sst2/test/dataset_info.json\n",
      "upload: ../../../../../../tmp/test/state.json to s3://sagemaker-us-east-1-123456789000/samples/datasets/sst2/test/state.json\n",
      "upload: ../../../../../../tmp/test/dataset.arrow to s3://sagemaker-us-east-1-123456789000/samples/datasets/sst2/test/dataset.arrow\n"
     ]
    }
   ],
   "source": [
    "import botocore\n",
    "\n",
    "# save train_dataset to s3\n",
    "training_input_path = f\"s3://{sess.default_bucket()}/{s3_prefix}/train\"\n",
    "train_dataset.save_to_disk('/tmp/train')\n",
    "!aws s3 sync /tmp/train {training_input_path}\n",
    "\n",
    "# save test_dataset to s3\n",
    "test_input_path = f\"s3://{sess.default_bucket()}/{s3_prefix}/test\"\n",
    "test_dataset.save_to_disk('/tmp/test')\n",
    "!aws s3 sync /tmp/test {test_input_path}"
   ]
  },
  {
   "cell_type": "markdown",
   "metadata": {},
   "source": [
    "## SageMaker Training Job\n",
    "\n",
    "To create a SageMaker training job, we use a `HuggingFace` estimator. Using the estimator, you can define which fine-tuning script should SageMaker use through `entry_point`, which `instance_type` to use for training, which `hyperparameters` to pass, and so on.\n",
    "\n",
    "When a SageMaker training job starts, SageMaker takes care of starting and managing all the required machine learning instances, picks up the `HuggingFace` Deep Learning Container, uploads your training script, and downloads the data from `sagemaker_session_bucket` into the container at `/opt/ml/input/data`.\n",
    "\n",
    "In the following section, you learn how to set up two versions of the SageMaker `HuggingFace` estimator, a native one without the compiler and an optimized one with the compiler."
   ]
  },
  {
   "cell_type": "markdown",
   "metadata": {},
   "source": [
    "### Training Setup"
   ]
  },
  {
   "cell_type": "markdown",
   "metadata": {},
   "source": [
    "Set up an option for fine-tuning or full training. Set `FINE_TUNING = 1` for fine-tuning and using `fine_tune_with_huggingface.py`. Set `FINE_TUNING = 0` for full training and using `full_train_roberta_with_huggingface.py`."
   ]
  },
  {
   "cell_type": "code",
   "execution_count": 8,
   "metadata": {},
   "outputs": [],
   "source": [
    "# Here we configure the training job. Please configure the appropriate options below:\n",
    "\n",
    "# Fine tuning trains a pre-trained model on a different dataset whereas full training trains the model from scratch.\n",
    "FINE_TUNING = True\n",
    "FULL_TRAINING = not FINE_TUNING\n",
    "\n",
    "# Fine tuning is typically faster and is done for fewer epochs\n",
    "EPOCHS = 4 if FINE_TUNING else 100\n",
    "\n",
    "TRAINING_SCRIPT = (\n",
    "    \"fine_tune_with_huggingface.py\" if FINE_TUNING else \"full_train_roberta_with_huggingface.py\"\n",
    ")"
   ]
  },
  {
   "cell_type": "markdown",
   "metadata": {},
   "source": [
    "### Setting up training configuration"
   ]
  },
  {
   "cell_type": "code",
   "execution_count": 9,
   "metadata": {},
   "outputs": [],
   "source": [
    "from sagemaker.huggingface import HuggingFace\n",
    "\n",
    "# Note that the training batch size directly affects the learning rate we'll use\n",
    "def get_hyperparameters(train_batch_size):\n",
    "    # hyperparameters, which are passed into the training job\n",
    "    hyperparameters = {\"epochs\": EPOCHS, \"train_batch_size\": train_batch_size, \"model_name\": \"roberta-base\"}\n",
    "    # The original LR was set for a batch of 32. Here we are scaling learning rate with batch size.\n",
    "    hyperparameters[\"learning_rate\"] = float(\"5e-5\") / 32 * hyperparameters[\"train_batch_size\"]\n",
    "    return hyperparameters\n",
    "\n",
    "\n",
    "def start_training_job(instance_type, hyperparameters):\n",
    "    estimator = HuggingFace(\n",
    "        entry_point=TRAINING_SCRIPT,\n",
    "        source_dir=\"./scripts\",\n",
    "        instance_type=instance_type,\n",
    "        instance_count=1,\n",
    "        role=role,\n",
    "        py_version=\"py38\",\n",
    "        transformers_version=\"4.11.0\",\n",
    "        pytorch_version=\"1.9.0\",\n",
    "        volume_size=60 + 2 * hyperparameters[\"epochs\"], # If checkpointing is enabled with higher epoch numbers, your disk requirements will increase as well\n",
    "        hyperparameters=hyperparameters,\n",
    "        disable_profiler=True,\n",
    "        debugger_hook_config=False,\n",
    "    )\n",
    "\n",
    "    # start training with our uploaded datasets as input\n",
    "    estimator.fit({\"train\": training_input_path, \"test\": test_input_path}, wait=False)\n",
    "    return estimator"
   ]
  },
  {
   "cell_type": "markdown",
   "metadata": {},
   "source": [
    "### Starting a training job per each instance type\n",
    "The `train_batch_size=18` in the following code cell is the maximum batch that can fit into the memory of an `ml.p3.2xlarge` instance. If you change the model, instance type, sequence length, and other parameters, you need to do some experiments to find the largest batch size that will fit into GPU memory.\n",
    "While `ml.g5.2xlarge` has more GPU RAM than `ml.p3.2xlarge`, and can handle a larger batch size of `24`, we benchmark with the origianl batch size to keep things simple."
   ]
  },
  {
   "cell_type": "code",
   "execution_count": 10,
   "metadata": {},
   "outputs": [
    {
     "name": "stdout",
     "output_type": "stream",
     "text": [
      "Training job on ml.p3.2xlarge name is: huggingface-pytorch-training-2022-04-03-07-58-50-951\n",
      "Training job on ml.g5.2xlarge name is: huggingface-pytorch-training-2022-04-03-07-58-54-457\n"
     ]
    }
   ],
   "source": [
    "instance1_estimator = start_training_job(INSTANCE1_TYPE, get_hyperparameters(train_batch_size=18))\n",
    "print(f'Training job on {INSTANCE1_TYPE} name is: {instance1_estimator.latest_training_job.name}')\n",
    "\n",
    "instance2_estimator = start_training_job(INSTANCE2_TYPE, get_hyperparameters(train_batch_size=18))\n",
    "print(f'Training job on {INSTANCE2_TYPE} name is: {instance2_estimator.latest_training_job.name}')"
   ]
  },
  {
   "cell_type": "markdown",
   "metadata": {},
   "source": [
    "### Training with Optimized PyTorch"
   ]
  },
  {
   "cell_type": "markdown",
   "metadata": {},
   "source": [
    "### Wait for training jobs to complete"
   ]
  },
  {
   "cell_type": "code",
   "execution_count": 11,
   "metadata": {},
   "outputs": [],
   "source": [
    "waiter = instance1_estimator.sagemaker_session.sagemaker_client.get_waiter(\n",
    "    \"training_job_completed_or_stopped\"\n",
    ")\n",
    "waiter.wait(TrainingJobName=instance1_estimator.latest_training_job.name)\n",
    "\n",
    "waiter = instance2_estimator.sagemaker_session.sagemaker_client.get_waiter(\n",
    "    \"training_job_completed_or_stopped\"\n",
    ")\n",
    "waiter.wait(TrainingJobName=instance2_estimator.latest_training_job.name)"
   ]
  },
  {
   "cell_type": "markdown",
   "metadata": {},
   "source": [
    "## Analysis"
   ]
  },
  {
   "cell_type": "code",
   "execution_count": 12,
   "metadata": {},
   "outputs": [],
   "source": [
    "%%capture instance1_logs\n",
    "\n",
    "# access the logs of the p3 training job\n",
    "instance1_estimator.sagemaker_session.logs_for_job(instance1_estimator.latest_training_job.name)"
   ]
  },
  {
   "cell_type": "markdown",
   "metadata": {},
   "source": [
    "**Note:** If the estimator object is no longer available due to a kernel break or refresh, you need to directly use the training job name and manually attach the training job to a new HuggingFace estimator. For example:\n",
    "```python\n",
    "my_estimator = HuggingFace.attach(\"your_huggingface_training_job_name\")\n",
    "```"
   ]
  },
  {
   "cell_type": "code",
   "execution_count": 13,
   "metadata": {},
   "outputs": [],
   "source": [
    "%%capture instance2_logs\n",
    "\n",
    "# access the logs of the g5 training job\n",
    "instance2_estimator.sagemaker_session.logs_for_job(instance2_estimator.latest_training_job.name)"
   ]
  },
  {
   "cell_type": "markdown",
   "metadata": {},
   "source": [
    "### Create helper functions for analysis"
   ]
  },
  {
   "cell_type": "code",
   "execution_count": 14,
   "metadata": {},
   "outputs": [],
   "source": [
    "from ast import literal_eval\n",
    "from collections import defaultdict\n",
    "from matplotlib import pyplot as plt\n",
    "\n",
    "\n",
    "def _summarize(captured):\n",
    "    final = []\n",
    "    for line in captured.stdout.split(\"\\n\"):\n",
    "        cleaned = line.strip()\n",
    "        if \"{\" in cleaned and \"}\" in cleaned:\n",
    "            final.append(cleaned[cleaned.index(\"{\") : cleaned.index(\"}\") + 1])\n",
    "    return final\n",
    "\n",
    "\n",
    "def make_sense(string):\n",
    "    try:\n",
    "        return literal_eval(string)\n",
    "    except:\n",
    "        pass\n",
    "\n",
    "\n",
    "def summarize(summary):\n",
    "    final = {\"train\": [], \"eval\": [], \"summary\": {}}\n",
    "    for line in summary:\n",
    "        interpretation = make_sense(line)\n",
    "        if interpretation:\n",
    "            if \"loss\" in interpretation:\n",
    "                final[\"train\"].append(interpretation)\n",
    "            elif \"eval_loss\" in interpretation:\n",
    "                final[\"eval\"].append(interpretation)\n",
    "            elif \"train_runtime\" in interpretation:\n",
    "                final[\"summary\"].update(interpretation)\n",
    "    return final"
   ]
  },
  {
   "cell_type": "markdown",
   "metadata": {},
   "source": [
    "### Plot and compare throughputs for both instance types\n",
    "\n",
    "Visualize average throughputs as reported by HuggingFace and see potential savings."
   ]
  },
  {
   "cell_type": "code",
   "execution_count": 15,
   "metadata": {},
   "outputs": [],
   "source": [
    "# collect the average throughput as reported by HF for first instance type training job\n",
    "s1 = summarize(_summarize(instance1_logs))\n",
    "instance1_throughput = s1[\"summary\"][\"train_samples_per_second\"]\n",
    "\n",
    "# collect the average throughput as reported by HF for the second instance type training job\n",
    "s2 = summarize(_summarize(instance2_logs))\n",
    "instance2_throughput = s2[\"summary\"][\"train_samples_per_second\"]\n",
    "\n",
    "# Calculate speedup for migrating to second instance type\n",
    "avg_speedup = f\"{round((instance2_throughput/instance1_throughput-1)*100)}%\""
   ]
  },
  {
   "cell_type": "code",
   "execution_count": 16,
   "metadata": {},
   "outputs": [
    {
     "data": {
      "text/plain": [
       "([<matplotlib.axis.XTick at 0x7fd51fec63d0>,\n",
       "  <matplotlib.axis.XTick at 0x7fd51fec63a0>],\n",
       " [Text(1.0, 0, 'ml.p3.2xlarge'), Text(1.5, 0, 'ml.g5.2xlarge')])"
      ]
     },
     "execution_count": 16,
     "metadata": {},
     "output_type": "execute_result"
    },
    {
     "data": {
      "image/png": "[encoded data removed]",
      "text/plain": [
       "<Figure size 432x288 with 1 Axes>"
      ]
     },
     "metadata": {
      "needs_background": "light"
     },
     "output_type": "display_data"
    }
   ],
   "source": [
    "%matplotlib inline\n",
    "\n",
    "plt.title(\"Training Throughput \\n (Higher is better)\")\n",
    "plt.ylabel(\"Samples/sec\")\n",
    "\n",
    "plt.bar(x=[1], height=instance1_throughput, label=INSTANCE1_TYPE, width=0.35)\n",
    "plt.bar(x=[1.5], height=instance2_throughput, label=INSTANCE2_TYPE, width=0.35)\n",
    "\n",
    "plt.xlabel(\"  ====> ({}) Higher throughput when training with {} <====\".format(avg_speedup,INSTANCE2_TYPE))\n",
    "plt.xticks(ticks=[1, 1.5], labels=[INSTANCE1_TYPE, INSTANCE2_TYPE])"
   ]
  },
  {
   "cell_type": "markdown",
   "metadata": {},
   "source": [
    "### Convergence of Training Loss\n",
    "\n",
    "Let's validate model convergence behavior is similar when training on both instance types."
   ]
  },
  {
   "cell_type": "code",
   "execution_count": 17,
   "metadata": {},
   "outputs": [
    {
     "data": {
      "text/plain": [
       "<matplotlib.legend.Legend at 0x7fd51ff39370>"
      ]
     },
     "execution_count": 17,
     "metadata": {},
     "output_type": "execute_result"
    },
    {
     "data": {
      "image/png": "[encoded data removed]",
      "text/plain": [
       "<Figure size 432x288 with 1 Axes>"
      ]
     },
     "metadata": {
      "needs_background": "light"
     },
     "output_type": "display_data"
    }
   ],
   "source": [
    "vanilla_loss = [i[\"loss\"] for i in s1[\"train\"]]\n",
    "vanilla_epochs = [i[\"epoch\"] for i in s1[\"train\"]]\n",
    "optimized_loss = [i[\"loss\"] for i in s2[\"train\"]]\n",
    "optimized_epochs = [i[\"epoch\"] for i in s2[\"train\"]]\n",
    "\n",
    "plt.title(\"Plot of Training Loss\")\n",
    "plt.xlabel(\"Epoch\")\n",
    "plt.ylabel(\"Training Loss\")\n",
    "plt.plot(vanilla_epochs, vanilla_loss, label=INSTANCE1_TYPE)\n",
    "plt.plot(optimized_epochs, optimized_loss, label=INSTANCE2_TYPE)\n",
    "plt.legend()"
   ]
  },
  {
   "cell_type": "markdown",
   "metadata": {},
   "source": [
    "### Evaluation Stats\n",
    "\n",
    "Let's validate the quality of the model is the same for models trained on both instance types. Here, we compare the evaluation metrics of the models trained on ml.p3.2xlarge and on ml.g5.2xlarge."
   ]
  },
  {
   "cell_type": "code",
   "execution_count": 18,
   "metadata": {},
   "outputs": [
    {
     "data": {
      "text/html": [
       "<div>\n",
       "<style scoped>\n",
       "    .dataframe tbody tr th:only-of-type {\n",
       "        vertical-align: middle;\n",
       "    }\n",
       "\n",
       "    .dataframe tbody tr th {\n",
       "        vertical-align: top;\n",
       "    }\n",
       "\n",
       "    .dataframe thead th {\n",
       "        text-align: right;\n",
       "    }\n",
       "</style>\n",
       "<table border=\"1\" class=\"dataframe\">\n",
       "  <thead>\n",
       "    <tr style=\"text-align: right;\">\n",
       "      <th></th>\n",
       "      <th>eval_loss</th>\n",
       "      <th>eval_accuracy</th>\n",
       "      <th>eval_f1</th>\n",
       "      <th>eval_precision</th>\n",
       "      <th>eval_recall</th>\n",
       "      <th>eval_steps_per_second</th>\n",
       "    </tr>\n",
       "  </thead>\n",
       "  <tbody>\n",
       "    <tr>\n",
       "      <th>ml.p3.2xlarge</th>\n",
       "      <td>0.207803</td>\n",
       "      <td>0.949777</td>\n",
       "      <td>0.950658</td>\n",
       "      <td>0.934267</td>\n",
       "      <td>0.967634</td>\n",
       "      <td>1.685</td>\n",
       "    </tr>\n",
       "    <tr>\n",
       "      <th>ml.g5.2xlarge</th>\n",
       "      <td>0.217268</td>\n",
       "      <td>0.950335</td>\n",
       "      <td>0.951018</td>\n",
       "      <td>0.938111</td>\n",
       "      <td>0.964286</td>\n",
       "      <td>2.101</td>\n",
       "    </tr>\n",
       "  </tbody>\n",
       "</table>\n",
       "</div>"
      ],
      "text/plain": [
       "               eval_loss  eval_accuracy   eval_f1  eval_precision  \\\n",
       "ml.p3.2xlarge   0.207803       0.949777  0.950658        0.934267   \n",
       "ml.g5.2xlarge   0.217268       0.950335  0.951018        0.938111   \n",
       "\n",
       "               eval_recall  eval_steps_per_second  \n",
       "ml.p3.2xlarge     0.967634                  1.685  \n",
       "ml.g5.2xlarge     0.964286                  2.101  "
      ]
     },
     "execution_count": 18,
     "metadata": {},
     "output_type": "execute_result"
    }
   ],
   "source": [
    "import pandas as pd\n",
    "\n",
    "table = pd.DataFrame([s1[\"eval\"][-1], s2[\"eval\"][-1]], index=[INSTANCE1_TYPE, INSTANCE2_TYPE])\n",
    "table.drop(columns=[\"eval_runtime\", \"eval_samples_per_second\", \"epoch\"])"
   ]
  },
  {
   "cell_type": "markdown",
   "metadata": {},
   "source": [
    "### Training Stats\n",
    "\n",
    "Let's compare various cost/efficiency and quality training metrics for the models trained on both instance types."
   ]
  },
  {
   "cell_type": "code",
   "execution_count": 19,
   "metadata": {},
   "outputs": [
    {
     "data": {
      "text/html": [
       "<div>\n",
       "<style scoped>\n",
       "    .dataframe tbody tr th:only-of-type {\n",
       "        vertical-align: middle;\n",
       "    }\n",
       "\n",
       "    .dataframe tbody tr th {\n",
       "        vertical-align: top;\n",
       "    }\n",
       "\n",
       "    .dataframe thead th {\n",
       "        text-align: right;\n",
       "    }\n",
       "</style>\n",
       "<table border=\"1\" class=\"dataframe\">\n",
       "  <thead>\n",
       "    <tr style=\"text-align: right;\">\n",
       "      <th></th>\n",
       "      <th>train_runtime</th>\n",
       "      <th>train_samples_per_second</th>\n",
       "      <th>train_steps_per_second</th>\n",
       "      <th>train_loss</th>\n",
       "      <th>epoch</th>\n",
       "    </tr>\n",
       "  </thead>\n",
       "  <tbody>\n",
       "    <tr>\n",
       "      <th>ml.p3.2xlarge</th>\n",
       "      <td>3917.6365</td>\n",
       "      <td>68.765</td>\n",
       "      <td>3.820</td>\n",
       "      <td>0.162547</td>\n",
       "      <td>4.0</td>\n",
       "    </tr>\n",
       "    <tr>\n",
       "      <th>ml.g5.2xlarge</th>\n",
       "      <td>5413.7689</td>\n",
       "      <td>49.761</td>\n",
       "      <td>2.764</td>\n",
       "      <td>0.163141</td>\n",
       "      <td>4.0</td>\n",
       "    </tr>\n",
       "  </tbody>\n",
       "</table>\n",
       "</div>"
      ],
      "text/plain": [
       "               train_runtime  train_samples_per_second  \\\n",
       "ml.p3.2xlarge      3917.6365                    68.765   \n",
       "ml.g5.2xlarge      5413.7689                    49.761   \n",
       "\n",
       "               train_steps_per_second  train_loss  epoch  \n",
       "ml.p3.2xlarge                   3.820    0.162547    4.0  \n",
       "ml.g5.2xlarge                   2.764    0.163141    4.0  "
      ]
     },
     "execution_count": 19,
     "metadata": {},
     "output_type": "execute_result"
    }
   ],
   "source": [
    "first_instance_time_to_train = int(s1[\"summary\"]['train_runtime'])\n",
    "second_instance_time_to_train = int(s2[\"summary\"]['train_runtime'])\n",
    "pd.DataFrame([s1[\"summary\"], s2[\"summary\"]], index=[INSTANCE1_TYPE, INSTANCE2_TYPE])"
   ]
  },
  {
   "cell_type": "code",
   "execution_count": 20,
   "metadata": {},
   "outputs": [
    {
     "name": "stdout",
     "output_type": "stream",
     "text": [
      "Training on ml.g5.2xlarge is about -38% faster in terms of total training time as reported by HF, than training on ml.p3.2xlarge.\n"
     ]
    }
   ],
   "source": [
    "# calculate percentage speedup from migrating to g5 in terms of total training time reported by HF\n",
    "\n",
    "speedup = (\n",
    "    (s1[\"summary\"][\"train_runtime\"] - s2[\"summary\"][\"train_runtime\"])\n",
    "    * 100\n",
    "    / s1[\"summary\"][\"train_runtime\"]\n",
    ")\n",
    "print(\n",
    "    f\"Training on {INSTANCE2_TYPE} is about {int(speedup)}% faster in terms of total training time as reported by HF, than training on {INSTANCE1_TYPE}.\"\n",
    ")"
   ]
  },
  {
   "cell_type": "markdown",
   "metadata": {},
   "source": [
    "### Total Billable Time\n",
    "\n",
    "Finally, the decrease/incease in total training time results in a decrease in the billable seconds from SageMaker.  \n",
    "Note: The billable seconds includes container download and other overhead time which is common to both instance types, therefore increase/decrease should be lower % compared to increase/decrease in sampels/sec."
   ]
  },
  {
   "cell_type": "code",
   "execution_count": 21,
   "metadata": {},
   "outputs": [],
   "source": [
    "def BillableTimeInSeconds(name):\n",
    "    details = sess.sagemaker_client.describe_training_job(TrainingJobName=name)\n",
    "    return details[\"BillableTimeInSeconds\"]"
   ]
  },
  {
   "cell_type": "code",
   "execution_count": 22,
   "metadata": {},
   "outputs": [
    {
     "data": {
      "text/html": [
       "<div>\n",
       "<style scoped>\n",
       "    .dataframe tbody tr th:only-of-type {\n",
       "        vertical-align: middle;\n",
       "    }\n",
       "\n",
       "    .dataframe tbody tr th {\n",
       "        vertical-align: top;\n",
       "    }\n",
       "\n",
       "    .dataframe thead th {\n",
       "        text-align: right;\n",
       "    }\n",
       "</style>\n",
       "<table border=\"1\" class=\"dataframe\">\n",
       "  <thead>\n",
       "    <tr style=\"text-align: right;\">\n",
       "      <th></th>\n",
       "      <th>ml.p3.2xlarge</th>\n",
       "      <th>ml.g5.2xlarge</th>\n",
       "    </tr>\n",
       "  </thead>\n",
       "  <tbody>\n",
       "    <tr>\n",
       "      <th>BillableSecs</th>\n",
       "      <td>4372</td>\n",
       "      <td>5836</td>\n",
       "    </tr>\n",
       "  </tbody>\n",
       "</table>\n",
       "</div>"
      ],
      "text/plain": [
       "              ml.p3.2xlarge  ml.g5.2xlarge\n",
       "BillableSecs           4372           5836"
      ]
     },
     "execution_count": 22,
     "metadata": {},
     "output_type": "execute_result"
    }
   ],
   "source": [
    "Billable = {}\n",
    "Billable[INSTANCE1_TYPE] = BillableTimeInSeconds(instance1_estimator.latest_training_job.name)\n",
    "Billable[INSTANCE2_TYPE] = BillableTimeInSeconds(instance2_estimator.latest_training_job.name)\n",
    "pd.DataFrame(Billable, index=[\"BillableSecs\"])"
   ]
  },
  {
   "cell_type": "code",
   "execution_count": 23,
   "metadata": {},
   "outputs": [
    {
     "name": "stdout",
     "output_type": "stream",
     "text": [
      "Training on ml.g5.2xlarge resulted in 33% more billable seconds than training on ml.p3.2xlarge.\n"
     ]
    }
   ],
   "source": [
    "billable_time_reduction = (Billable[INSTANCE1_TYPE] - Billable[INSTANCE2_TYPE]) * 100 / Billable[INSTANCE1_TYPE]\n",
    "\n",
    "cheap_instance = INSTANCE2_TYPE if billable_time_reduction > 0 else INSTANCE1_TYPE\n",
    "expensive_instance = INSTANCE1_TYPE if cheap_instance == INSTANCE2_TYPE else INSTANCE2_TYPE\n",
    "abs_billable_time_reduction = int(abs(billable_time_reduction))\n",
    "print(f\"Training on {expensive_instance} resulted in {abs_billable_time_reduction}% more billable seconds than training on {cheap_instance}.\")"
   ]
  },
  {
   "cell_type": "markdown",
   "metadata": {},
   "source": [
    "### Total cost\n",
    "Total cost is instance type price times the billable seconds."
   ]
  },
  {
   "cell_type": "code",
   "execution_count": 24,
   "metadata": {},
   "outputs": [
    {
     "name": "stdout",
     "output_type": "stream",
     "text": [
      "Instance type ml.p3.2xlarge-Training price is $3.8250000000/hr, in region us-east-1\n",
      "Instance type ml.g5.2xlarge-Training price is $1.5150000000/hr, in region us-east-1\n"
     ]
    },
    {
     "data": {
      "text/html": [
       "<div>\n",
       "<style scoped>\n",
       "    .dataframe tbody tr th:only-of-type {\n",
       "        vertical-align: middle;\n",
       "    }\n",
       "\n",
       "    .dataframe tbody tr th {\n",
       "        vertical-align: top;\n",
       "    }\n",
       "\n",
       "    .dataframe thead th {\n",
       "        text-align: right;\n",
       "    }\n",
       "</style>\n",
       "<table border=\"1\" class=\"dataframe\">\n",
       "  <thead>\n",
       "    <tr style=\"text-align: right;\">\n",
       "      <th></th>\n",
       "      <th>ml.p3.2xlarge</th>\n",
       "      <th>ml.g5.2xlarge</th>\n",
       "    </tr>\n",
       "  </thead>\n",
       "  <tbody>\n",
       "    <tr>\n",
       "      <th>price $/hr</th>\n",
       "      <td>3.825</td>\n",
       "      <td>1.515</td>\n",
       "    </tr>\n",
       "  </tbody>\n",
       "</table>\n",
       "</div>"
      ],
      "text/plain": [
       "            ml.p3.2xlarge  ml.g5.2xlarge\n",
       "price $/hr          3.825          1.515"
      ]
     },
     "execution_count": 24,
     "metadata": {},
     "output_type": "execute_result"
    }
   ],
   "source": [
    "import json\n",
    "\n",
    "def get_aws_full_region_name(region_code):\n",
    "    if region_code==\"us-east-1\": return \"US East (N. Virginia)\"\n",
    "    raise(Exception(\"Please add the full region name from here: https://docs.aws.amazon.com/AWSEC2/latest/UserGuide/using-regions-availability-zones.html#concepts-available-regions\"))\n",
    "\n",
    "\n",
    "# Helper function to retrieve price of an instance type\n",
    "def price_information(client, instance_type, region):\n",
    "        # Search product filter\n",
    "        FLT = f'[{{\"Field\": \"location\", \"Value\": \"{get_aws_full_region_name(region)}\", \"Type\": \"TERM_MATCH\"}},' \\\n",
    "              f'{{\"Field\": \"instanceType\", \"Value\": \"{instance_type}\", \"Type\": \"TERM_MATCH\"}}]'\n",
    "    \n",
    "        try:\n",
    "            #aws pricing get-products --service-code AmazonSageMaker --filters Type=TERM_MATCH,Field=instanceType,Value=ml.g5.xlarge-Training Type=TERM_MATCH,Field=location,Value=\"US East (N. Virginia)\"\n",
    "            data = client.get_products(ServiceCode='AmazonSageMaker', Filters=json.loads(FLT))\n",
    "            instance_price = 0\n",
    "            for priceItem in data['PriceList']:\n",
    "                try:\n",
    "                    l1 = eval(priceItem)['terms']['OnDemand']\n",
    "                    l2 = list(l1.values())[0]['priceDimensions']\n",
    "                    instance_price = list(l2.values())[0]['pricePerUnit']['USD']\n",
    "                except Exception as e:\n",
    "                    print(e)\n",
    "            print(f'Instance type {instance_type} price is ${instance_price}/hr, in region {region}')\n",
    "            return float(instance_price)\n",
    "        except Exception as e:\n",
    "            print(e)\n",
    "            return 0\n",
    "\n",
    "client = boto3.client('pricing', region_name=sess.boto_region_name)\n",
    "\n",
    "# Get current price for a given instance, region and os\n",
    "priceDict = {\n",
    "    INSTANCE1_TYPE : price_information(client, f'{INSTANCE1_TYPE}-Training', sess.boto_region_name),\n",
    "    INSTANCE2_TYPE : price_information(client, f'{INSTANCE2_TYPE}-Training', sess.boto_region_name),\n",
    "}\n",
    "pd.DataFrame(priceDict, index=[\"price $/hr\"])"
   ]
  },
  {
   "cell_type": "code",
   "execution_count": 25,
   "metadata": {},
   "outputs": [
    {
     "data": {
      "text/html": [
       "<div>\n",
       "<style scoped>\n",
       "    .dataframe tbody tr th:only-of-type {\n",
       "        vertical-align: middle;\n",
       "    }\n",
       "\n",
       "    .dataframe tbody tr th {\n",
       "        vertical-align: top;\n",
       "    }\n",
       "\n",
       "    .dataframe thead th {\n",
       "        text-align: right;\n",
       "    }\n",
       "</style>\n",
       "<table border=\"1\" class=\"dataframe\">\n",
       "  <thead>\n",
       "    <tr style=\"text-align: right;\">\n",
       "      <th></th>\n",
       "      <th>ml.p3.2xlarge</th>\n",
       "      <th>ml.g5.2xlarge</th>\n",
       "    </tr>\n",
       "  </thead>\n",
       "  <tbody>\n",
       "    <tr>\n",
       "      <th>Cost to train</th>\n",
       "      <td>$4.65</td>\n",
       "      <td>$2.46</td>\n",
       "    </tr>\n",
       "    <tr>\n",
       "      <th>Seconds to train</th>\n",
       "      <td>3917</td>\n",
       "      <td>5413</td>\n",
       "    </tr>\n",
       "  </tbody>\n",
       "</table>\n",
       "</div>"
      ],
      "text/plain": [
       "                 ml.p3.2xlarge ml.g5.2xlarge\n",
       "Cost to train            $4.65         $2.46\n",
       "Seconds to train          3917          5413"
      ]
     },
     "execution_count": 25,
     "metadata": {},
     "output_type": "execute_result"
    }
   ],
   "source": [
    "first_instance_cost_to_train = f'${priceDict[INSTANCE1_TYPE] * Billable[INSTANCE1_TYPE] / 3600 :.2f}'\n",
    "second_instance_cost_to_train = f'${priceDict[INSTANCE2_TYPE] * Billable[INSTANCE2_TYPE] / 3600 :.2f}'\n",
    "\n",
    "costAndTimetoTrain = {\n",
    "    INSTANCE1_TYPE : [first_instance_cost_to_train, first_instance_time_to_train],\n",
    "    INSTANCE2_TYPE : [second_instance_cost_to_train, second_instance_time_to_train],\n",
    "}\n",
    "pd.DataFrame(costAndTimetoTrain, index=[\"Cost to train\", \"Seconds to train\"])"
   ]
  },
  {
   "cell_type": "markdown",
   "metadata": {},
   "source": [
    "## Clean up\n",
    "\n",
    "Stop all training jobs launched if the jobs are still running."
   ]
  },
  {
   "cell_type": "code",
   "execution_count": 26,
   "metadata": {},
   "outputs": [],
   "source": [
    "import boto3\n",
    "\n",
    "sm = boto3.client(\"sagemaker\")\n",
    "\n",
    "\n",
    "def stop_training_job(name):\n",
    "    status = sm.describe_training_job(TrainingJobName=name)[\"TrainingJobStatus\"]\n",
    "    if status == \"InProgress\":\n",
    "        sm.stop_training_job(TrainingJobName=name)\n",
    "\n",
    "\n",
    "stop_training_job(instance1_estimator.latest_training_job.name)\n",
    "stop_training_job(instance2_estimator.latest_training_job.name)"
   ]
  },
  {
   "cell_type": "markdown",
   "metadata": {},
   "source": [
    "Also, to find instructions on cleaning up resources, see [Clean Up](https://docs.aws.amazon.com/sagemaker/latest/dg/ex1-cleanup.html) in the *Amazon SageMaker Developer Guide*."
   ]
  }
 ],
 "metadata": {
  "instance_type": "ml.t3.medium",
  "interpreter": {
   "hash": "5e02aed377a419ec3a4ba69bae9e5eb03777c967cf04fbdfbca7c1f4cc441615"
  },
  "kernelspec": {
   "display_name": "conda_pytorch_latest_p36",
   "language": "python",
   "name": "python3"
  },
  "language_info": {
   "codemirror_mode": {
    "name": "ipython",
    "version": 3
   },
   "file_extension": ".py",
   "mimetype": "text/x-python",
   "name": "python",
   "nbconvert_exporter": "python",
   "pygments_lexer": "ipython3",
   "version": "3.9.7"
  }
 },
 "nbformat": 4,
 "nbformat_minor": 4
}
